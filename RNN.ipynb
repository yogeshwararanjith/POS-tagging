{
  "cells": [
    {
      "cell_type": "markdown",
      "id": "17f7ea32",
      "metadata": {
        "id": "17f7ea32"
      },
      "source": [
        "### Notebook layout:\n",
        "\n",
        "Preprocess data\n",
        "\n",
        "Vanilla RNN\n",
        "\n",
        "Word Embeddings\n",
        "\n",
        "LSTM\n",
        "\n",
        "GRU\n",
        "\n",
        "Bidirectional LSTM\n",
        "\n",
        "Model Evaluation"
      ]
    },
    {
      "cell_type": "code",
      "execution_count": null,
      "id": "4caa5fa4",
      "metadata": {
        "id": "4caa5fa4"
      },
      "outputs": [],
      "source": [
        "import warnings\n",
        "warnings.filterwarnings('ignore')\n",
        "\n",
        "import numpy as np\n",
        "\n",
        "from matplotlib import pyplot as plt\n",
        "\n",
        "from nltk.corpus import brown\n",
        "from nltk.corpus import treebank\n",
        "from nltk.corpus import conll2000\n",
        "\n",
        "import seaborn as sns\n",
        "\n",
        "from gensim.models import KeyedVectors\n",
        "\n",
        "from tensorflow.keras.preprocessing.sequence import pad_sequences\n",
        "from tensorflow.keras.utils import to_categorical\n",
        "from tensorflow.keras import Sequential,Input,Model\n",
        "from tensorflow.keras.layers import Embedding, Dense, TimeDistributed, LSTM, GRU, Bidirectional, SimpleRNN, RNN\n",
        "from tensorflow.keras.preprocessing.text import Tokenizer\n",
        "\n",
        "from sklearn.model_selection import train_test_split\n",
        "from sklearn.utils import shuffle"
      ]
    },
    {
      "cell_type": "markdown",
      "id": "aad88d35",
      "metadata": {
        "id": "aad88d35"
      },
      "source": [
        "### 1. Preprocess data"
      ]
    },
    {
      "cell_type": "code",
      "execution_count": null,
      "id": "e9df8535",
      "metadata": {
        "colab": {
          "base_uri": "https://localhost:8080/"
        },
        "id": "e9df8535",
        "outputId": "866607fb-d062-4239-cc7d-3134edb22816"
      },
      "outputs": [
        {
          "output_type": "stream",
          "name": "stderr",
          "text": [
            "[nltk_data] Downloading package brown to /root/nltk_data...\n",
            "[nltk_data]   Unzipping corpora/brown.zip.\n",
            "[nltk_data] Downloading package treebank to /root/nltk_data...\n",
            "[nltk_data]   Unzipping corpora/treebank.zip.\n",
            "[nltk_data] Downloading package conll2000 to /root/nltk_data...\n",
            "[nltk_data]   Unzipping corpora/conll2000.zip.\n",
            "[nltk_data] Downloading package punkt to /root/nltk_data...\n",
            "[nltk_data]   Unzipping tokenizers/punkt.zip.\n",
            "[nltk_data] Downloading package universal_tagset to /root/nltk_data...\n",
            "[nltk_data]   Unzipping taggers/universal_tagset.zip.\n"
          ]
        }
      ],
      "source": [
        "import nltk\n",
        "nltk.download('brown')\n",
        "nltk.download('treebank')\n",
        "nltk.download('conll2000')\n",
        "nltk.download('punkt')\n",
        "nltk.download('universal_tagset')\n",
        "\n",
        "# load POS tagged corpora from NLTK\n",
        "treebank_corpus = treebank.tagged_sents(tagset='universal')\n",
        "brown_corpus = brown.tagged_sents(tagset='universal')\n",
        "conll_corpus = conll2000.tagged_sents(tagset='universal')\n",
        "tagged_sentences = treebank_corpus + brown_corpus + conll_corpus"
      ]
    },
    {
      "cell_type": "code",
      "execution_count": null,
      "id": "e9bdfb26",
      "metadata": {
        "colab": {
          "base_uri": "https://localhost:8080/"
        },
        "id": "e9bdfb26",
        "outputId": "ca4e9b2e-bb6e-466f-ff0a-80b075f01b4e"
      },
      "outputs": [
        {
          "output_type": "execute_result",
          "data": {
            "text/plain": [
              "[('Pierre', 'NOUN'),\n",
              " ('Vinken', 'NOUN'),\n",
              " (',', '.'),\n",
              " ('61', 'NUM'),\n",
              " ('years', 'NOUN'),\n",
              " ('old', 'ADJ'),\n",
              " (',', '.'),\n",
              " ('will', 'VERB'),\n",
              " ('join', 'VERB'),\n",
              " ('the', 'DET'),\n",
              " ('board', 'NOUN'),\n",
              " ('as', 'ADP'),\n",
              " ('a', 'DET'),\n",
              " ('nonexecutive', 'ADJ'),\n",
              " ('director', 'NOUN'),\n",
              " ('Nov.', 'NOUN'),\n",
              " ('29', 'NUM'),\n",
              " ('.', '.')]"
            ]
          },
          "metadata": {},
          "execution_count": 3
        }
      ],
      "source": [
        "tagged_sentences[0]"
      ]
    },
    {
      "cell_type": "markdown",
      "id": "b41d88c1",
      "metadata": {
        "id": "b41d88c1"
      },
      "source": [
        "###  Divide data in words (X) and tags (Y)"
      ]
    },
    {
      "cell_type": "markdown",
      "id": "4f9f9133",
      "metadata": {
        "id": "4f9f9133"
      },
      "source": [
        "Since this is a many-to-many problem, each data point will be a different sentence of the corpora.\n",
        "\n",
        "Each data point will have multiple words in the input sequence. This is what we will refer to as X.\n",
        "\n",
        "Each word will have its correpsonding tag in the output sequence. This what we will refer to as Y.\n",
        "\n",
        "Sample dataset:\n",
        "\n",
        "X\tY\n",
        "Mr. Vinken is chairman of Elsevier\tNOUN NOUN VERB NOUN ADP NOUN\n",
        "We have no useful information\tPRON VERB DET ADJ NOUN\n"
      ]
    },
    {
      "cell_type": "code",
      "execution_count": null,
      "id": "c001c353",
      "metadata": {
        "id": "c001c353"
      },
      "outputs": [],
      "source": [
        "X = [] # store input sequences\n",
        "Y = [] # store output sequences\n",
        "\n",
        "for sentence in tagged_sentences:\n",
        "    X_sentence = []\n",
        "    Y_sentence = []\n",
        "    for entity in sentence:\n",
        "        X_sentence.append(entity[0]) # entity[0] contains the word\n",
        "        Y_sentence.append(entity[1]) # entity[1] contains the tag\n",
        "    X.append(X_sentence)\n",
        "    Y.append(Y_sentence)"
      ]
    },
    {
      "cell_type": "code",
      "execution_count": null,
      "id": "e0392952",
      "metadata": {
        "id": "e0392952"
      },
      "outputs": [],
      "source": [
        "num_words = len(set([word.lower() for sentence in X for word in sentence]))\n",
        "num_tags = len(set([word.lower() for sentence in Y for word in sentence]))"
      ]
    },
    {
      "cell_type": "code",
      "execution_count": null,
      "id": "a0f901bb",
      "metadata": {
        "colab": {
          "base_uri": "https://localhost:8080/"
        },
        "id": "a0f901bb",
        "outputId": "abe89d8f-fa70-4437-ad15-4754c2e1e1bb"
      },
      "outputs": [
        {
          "output_type": "stream",
          "name": "stdout",
          "text": [
            "Total no.of tagged sentenses are 72202\n",
            "Total no.of tagged sentences: 72202\n",
            "Vocabulary size : 59448\n",
            "Total no.of tags : 12\n"
          ]
        }
      ],
      "source": [
        "print('Total no.of tagged sentenses are %s' %(len(X)))\n",
        "print('Total no.of tagged sentences: {}'.format(len(X)))\n",
        "print('Vocabulary size : {}'.format(num_words))\n",
        "print('Total no.of tags : {}'.format(num_tags))"
      ]
    },
    {
      "cell_type": "code",
      "execution_count": null,
      "id": "6ba77128",
      "metadata": {
        "colab": {
          "base_uri": "https://localhost:8080/"
        },
        "id": "6ba77128",
        "outputId": "f38cf807-c8be-4863-a5a7-db5c0452d68a"
      },
      "outputs": [
        {
          "output_type": "stream",
          "name": "stdout",
          "text": [
            "sample X:  ['Pierre', 'Vinken', ',', '61', 'years', 'old', ',', 'will', 'join', 'the', 'board', 'as', 'a', 'nonexecutive', 'director', 'Nov.', '29', '.'] \n",
            "\n",
            "sample Y:  ['NOUN', 'NOUN', '.', 'NUM', 'NOUN', 'ADJ', '.', 'VERB', 'VERB', 'DET', 'NOUN', 'ADP', 'DET', 'ADJ', 'NOUN', 'NOUN', 'NUM', '.'] \n",
            "\n"
          ]
        }
      ],
      "source": [
        "# let's look at first data point\n",
        "# this is one data point that will be fed to the RNN\n",
        "print('sample X: ', X[0], '\\n')\n",
        "print('sample Y: ', Y[0], '\\n')"
      ]
    },
    {
      "cell_type": "code",
      "execution_count": null,
      "id": "ced3cef2",
      "metadata": {
        "colab": {
          "base_uri": "https://localhost:8080/"
        },
        "id": "ced3cef2",
        "outputId": "1e69ef4e-778b-42c4-b0b3-226407373761"
      },
      "outputs": [
        {
          "output_type": "stream",
          "name": "stdout",
          "text": [
            "Length of first input sequence : 18\n",
            "Length of first output sequence : 18\n"
          ]
        }
      ],
      "source": [
        "# In this many-to-many problem, the length of each input and output sequence must be the same.\n",
        "# Since each word is tagged, it's important to make sure that the length of input sequence equals the output sequence\n",
        "print('Length of first input sequence : {}'.format(len(X[0])))\n",
        "print(\"Length of first output sequence : {}\".format(len(Y[0])))"
      ]
    },
    {
      "cell_type": "markdown",
      "id": "1b3b450f",
      "metadata": {
        "id": "1b3b450f"
      },
      "source": [
        "Now we have feed these as inputs to RNN's"
      ]
    },
    {
      "cell_type": "markdown",
      "id": "afd33360",
      "metadata": {
        "id": "afd33360"
      },
      "source": [
        "We know that the inputs should be numerical"
      ]
    },
    {
      "cell_type": "markdown",
      "id": "843e2d70",
      "metadata": {
        "id": "843e2d70"
      },
      "source": [
        "Encode X and Y to integer values\n",
        "\n",
        "We'll use the Tokenizer() function from Keras library to encode text sequence to integer sequence"
      ]
    },
    {
      "cell_type": "code",
      "execution_count": null,
      "id": "6b635d59",
      "metadata": {
        "id": "6b635d59"
      },
      "outputs": [],
      "source": [
        "# encode X\n",
        "word_tokenizer = Tokenizer()\n",
        "word_tokenizer.fit_on_texts(X)\n",
        "X_encoded = word_tokenizer.texts_to_sequences(X)"
      ]
    },
    {
      "cell_type": "code",
      "execution_count": null,
      "id": "aa1e7524",
      "metadata": {
        "id": "aa1e7524"
      },
      "outputs": [],
      "source": [
        "# encode Y\n",
        "tag_tokenizer = Tokenizer()\n",
        "tag_tokenizer.fit_on_texts(Y)\n",
        "Y_encoded = tag_tokenizer.texts_to_sequences(Y)"
      ]
    },
    {
      "cell_type": "code",
      "execution_count": null,
      "id": "d2677a55",
      "metadata": {
        "colab": {
          "base_uri": "https://localhost:8080/"
        },
        "id": "d2677a55",
        "outputId": "6d6fa8d9-08e8-4636-ab58-e2da4e5399f4"
      },
      "outputs": [
        {
          "output_type": "stream",
          "name": "stdout",
          "text": [
            "** Raw data point ** \n",
            " ---------------------------------------------------------------------------------------------------- \n",
            "\n",
            "X:  ['Pierre', 'Vinken', ',', '61', 'years', 'old', ',', 'will', 'join', 'the', 'board', 'as', 'a', 'nonexecutive', 'director', 'Nov.', '29', '.'] \n",
            "\n",
            "Y:  ['NOUN', 'NOUN', '.', 'NUM', 'NOUN', 'ADJ', '.', 'VERB', 'VERB', 'DET', 'NOUN', 'ADP', 'DET', 'ADJ', 'NOUN', 'NOUN', 'NUM', '.'] \n",
            "\n",
            "\n",
            "** Encoded data point ** \n",
            " ---------------------------------------------------------------------------------------------------- \n",
            "\n",
            "X:  [6423, 24231, 2, 7652, 102, 170, 2, 47, 1898, 1, 269, 17, 7, 13230, 619, 1711, 2761, 3] \n",
            "\n",
            "Y:  [1, 1, 3, 11, 1, 6, 3, 2, 2, 5, 1, 4, 5, 6, 1, 1, 11, 3] \n",
            "\n"
          ]
        }
      ],
      "source": [
        "# look at first encoded data point\n",
        "\n",
        "print(\"** Raw data point **\", \"\\n\", \"-\"*100, \"\\n\")\n",
        "print('X: ', X[0], '\\n')\n",
        "print('Y: ', Y[0], '\\n')\n",
        "print()\n",
        "print(\"** Encoded data point **\", \"\\n\", \"-\"*100, \"\\n\")\n",
        "print('X: ', X_encoded[0], '\\n')\n",
        "print('Y: ', Y_encoded[0], '\\n')"
      ]
    },
    {
      "cell_type": "code",
      "execution_count": null,
      "id": "5a5d0baa",
      "metadata": {
        "colab": {
          "base_uri": "https://localhost:8080/"
        },
        "id": "5a5d0baa",
        "outputId": "72215420-130d-4a19-a382-8f0e8d10b8d2"
      },
      "outputs": [
        {
          "output_type": "stream",
          "name": "stdout",
          "text": [
            "0 sentences have disparate input-output lengths.\n"
          ]
        }
      ],
      "source": [
        "# make sure that each sequence of input and output is same length\n",
        "\n",
        "different_length = [1 if len(input) != len(output) else 0 for input, output in zip(X_encoded, Y_encoded)]\n",
        "print(\"{} sentences have disparate input-output lengths.\".format(sum(different_length)))"
      ]
    },
    {
      "cell_type": "markdown",
      "id": "281f5dca",
      "metadata": {
        "id": "281f5dca"
      },
      "source": [
        "### Pad sequences\n",
        "\n",
        "The next step after encoding the data is to define the sequence lengths. As of now, the sentences present in the data are of various lengths. We need to either pad short sentences or truncate long sentences to a fixed length. This fixed length, however, is a hyperparameter."
      ]
    },
    {
      "cell_type": "code",
      "execution_count": null,
      "id": "5c37e625",
      "metadata": {
        "colab": {
          "base_uri": "https://localhost:8080/"
        },
        "id": "5c37e625",
        "outputId": "727ad232-3452-4db0-ce05-f767aaae6fa7"
      },
      "outputs": [
        {
          "output_type": "stream",
          "name": "stdout",
          "text": [
            "length of longest sentence : 271\n"
          ]
        }
      ],
      "source": [
        "lengths = [len(seq) for seq in X_encoded]\n",
        "print('length of longest sentence : {}'.format(max(lengths)))"
      ]
    },
    {
      "cell_type": "code",
      "execution_count": null,
      "id": "3a5fcc74",
      "metadata": {
        "colab": {
          "base_uri": "https://localhost:8080/",
          "height": 430
        },
        "id": "3a5fcc74",
        "outputId": "7d9aa860-c68a-4e63-bbc1-e55ee2b2d2f0"
      },
      "outputs": [
        {
          "output_type": "display_data",
          "data": {
            "text/plain": [
              "<Figure size 640x480 with 1 Axes>"
            ],
            "image/png": "[encoded data removed]"
          },
          "metadata": {}
        }
      ],
      "source": [
        "sns.boxplot(lengths)\n",
        "plt.show()"
      ]
    },
    {
      "cell_type": "code",
      "execution_count": null,
      "id": "2785ed36",
      "metadata": {
        "id": "2785ed36"
      },
      "outputs": [],
      "source": [
        "# Pad each sequence to MAX_SEQ_LENGTH using KERAS' pad_sequences() function.\n",
        "# Sentences longer than MAX_SEQ_LENGTH are truncated.\n",
        "# Sentences shorter than MAX_SEQ_LENGTH are padded with zeroes.\n",
        "\n",
        "# Truncation and padding can either be 'pre' or 'post'.\n",
        "# For padding we are using 'pre' padding type, that is, add zeroes on the left side.\n",
        "# For truncation, we are using 'post', that is, truncate a sentence from right side.\n",
        "\n",
        "MAX_SEQ_LENGTH = 100  # sequences greater than 100 in length will be truncated\n",
        "\n",
        "X_padded = pad_sequences(X_encoded, maxlen = MAX_SEQ_LENGTH, padding='pre', truncating='post' )\n",
        "Y_padded = pad_sequences(Y_encoded, maxlen = MAX_SEQ_LENGTH, padding='pre', truncating='post')"
      ]
    },
    {
      "cell_type": "code",
      "execution_count": null,
      "id": "3641e9cc",
      "metadata": {
        "colab": {
          "base_uri": "https://localhost:8080/"
        },
        "id": "3641e9cc",
        "outputId": "14958ac9-0aca-467a-955a-9de978fc87f2"
      },
      "outputs": [
        {
          "output_type": "stream",
          "name": "stdout",
          "text": [
            "[    0     0     0     0     0     0     0     0     0     0     0     0\n",
            "     0     0     0     0     0     0     0     0     0     0     0     0\n",
            "     0     0     0     0     0     0     0     0     0     0     0     0\n",
            "     0     0     0     0     0     0     0     0     0     0     0     0\n",
            "     0     0     0     0     0     0     0     0     0     0     0     0\n",
            "     0     0     0     0     0     0     0     0     0     0     0     0\n",
            "     0     0     0     0     0     0     0     0     0     0  6423 24231\n",
            "     2  7652   102   170     2    47  1898     1   269    17     7 13230\n",
            "   619  1711  2761     3] \n",
            "\n",
            "\n",
            "\n",
            "[ 0  0  0  0  0  0  0  0  0  0  0  0  0  0  0  0  0  0  0  0  0  0  0  0\n",
            "  0  0  0  0  0  0  0  0  0  0  0  0  0  0  0  0  0  0  0  0  0  0  0  0\n",
            "  0  0  0  0  0  0  0  0  0  0  0  0  0  0  0  0  0  0  0  0  0  0  0  0\n",
            "  0  0  0  0  0  0  0  0  0  0  1  1  3 11  1  6  3  2  2  5  1  4  5  6\n",
            "  1  1 11  3]\n"
          ]
        }
      ],
      "source": [
        "# print the first sequence\n",
        "print(X_padded[0], \"\\n\"*3)\n",
        "print(Y_padded[0])"
      ]
    },
    {
      "cell_type": "code",
      "execution_count": null,
      "id": "be7b1e28",
      "metadata": {
        "id": "be7b1e28"
      },
      "outputs": [],
      "source": [
        "X, Y = X_padded, Y_padded"
      ]
    },
    {
      "cell_type": "markdown",
      "id": "50181870",
      "metadata": {
        "id": "50181870"
      },
      "source": [
        "### Word embeddings\n",
        "\n",
        "Currently, each word and each tag is encoded as an integer.\n",
        "\n",
        "We'll use a more sophisticated technique to represent the input words (X) using what's known as word embeddings.\n",
        "\n",
        "However, to represent each tag in Y, we'll simply use one-hot encoding scheme since there are only 13 tags in the dataset and the LSTM will have no problems in learning its own representation of these tags.\n",
        "\n",
        "To use word embeddings, you can go for either of the following models:\n",
        "\n",
        "word2vec model: https://code.google.com/archive/p/word2vec/\n",
        "GloVe model : https://nlp.stanford.edu/projects/glove/\n",
        "We're using the word2vec model for no particular reason. Both of these are very efficient in representing words. You can try both and see which one works better.\n",
        "\n",
        "Dimensions of a word embedding is: (VOCABULARY_SIZE, EMBEDDING_DIMENSION)\n",
        "\n",
        "Use word embeddings for input sequences (X)"
      ]
    },
    {
      "cell_type": "code",
      "source": [
        "from google.colab import drive\n",
        "drive.mount('/content/gdrive')"
      ],
      "metadata": {
        "colab": {
          "base_uri": "https://localhost:8080/"
        },
        "id": "K4S-Bc_Azg-z",
        "outputId": "584fc174-acfd-4011-ff88-cda62d03635d"
      },
      "id": "K4S-Bc_Azg-z",
      "execution_count": null,
      "outputs": [
        {
          "output_type": "stream",
          "name": "stdout",
          "text": [
            "Mounted at /content/gdrive\n"
          ]
        }
      ]
    },
    {
      "cell_type": "code",
      "source": [],
      "metadata": {
        "id": "PtzLVMuCz_dG"
      },
      "id": "PtzLVMuCz_dG",
      "execution_count": null,
      "outputs": []
    },
    {
      "cell_type": "code",
      "execution_count": null,
      "id": "39391c7b",
      "metadata": {
        "id": "39391c7b"
      },
      "outputs": [],
      "source": [
        "# word2vec download link (Size ~ 1.5GB): https://drive.google.com/file/d/0B7XkCwpI5KDYNlNUTTlSS21pQmM/edit\n",
        "\n",
        "import pathlib\n",
        "path = pathlib.Path('/content/gdrive/My Drive/word-embeddings/GoogleNews-vectors-negative300.bin.gz')\n",
        "\n",
        "# load word2vec using the following function present in the gensim library\n",
        "word2vec = KeyedVectors.load_word2vec_format(path, binary=True)"
      ]
    },
    {
      "cell_type": "code",
      "execution_count": null,
      "id": "1739cffe",
      "metadata": {
        "colab": {
          "base_uri": "https://localhost:8080/"
        },
        "id": "1739cffe",
        "outputId": "e1948dbd-7d9d-44e0-e70e-27c9a899c304"
      },
      "outputs": [
        {
          "output_type": "execute_result",
          "data": {
            "text/plain": [
              "[('Queen', 0.4929387867450714),\n",
              " ('Tupou_V.', 0.45174285769462585),\n",
              " ('Oprah_BFF_Gayle', 0.4422132968902588),\n",
              " ('Jackson', 0.440250426530838),\n",
              " ('NECN_Alison', 0.4331282675266266),\n",
              " ('Whitfield', 0.42834725975990295),\n",
              " ('Ida_Vandross', 0.42084527015686035),\n",
              " ('prosecutor_Dan_Satterberg', 0.420758992433548),\n",
              " ('martin_Luther_King', 0.42059651017189026),\n",
              " ('Coretta_King', 0.4202733635902405)]"
            ]
          },
          "metadata": {},
          "execution_count": 20
        }
      ],
      "source": [
        "# word2vec effectiveness\n",
        "word2vec.most_similar(positive = [\"King\", \"Woman\"], negative = [\"Man\"])"
      ]
    },
    {
      "cell_type": "code",
      "source": [
        "# assign word vectors from word2vec model\n",
        "EMBEDDING_SIZE = 300 # each word in word2vec model is represented using a 300 dimensional vector\n",
        "VOCABULARY_SIZE = len(word_tokenizer.word_index) + 1\n",
        "\n",
        "# create an empty embedding matix\n",
        "embedding_weights = np.zeros((VOCABULARY_SIZE,EMBEDDING_SIZE))\n",
        "\n",
        "# create a word to index dictionary mapping\n",
        "word2id = word_tokenizer.word_index\n",
        "# print(word2id)\n",
        "# copy vectors from word2vec model to the words present in corpus\n",
        "\n",
        "for word, index in word2id.items():\n",
        "    try:\n",
        "        embedding_weights[index, :] = word2vec[word]\n",
        "    except KeyError:\n",
        "        pass"
      ],
      "metadata": {
        "id": "ZnlNjo9t8b3G"
      },
      "id": "ZnlNjo9t8b3G",
      "execution_count": null,
      "outputs": []
    },
    {
      "cell_type": "code",
      "source": [
        "# print embedding dimension\n",
        "print('Embedding shape: {}'.format(embedding_weights.size))"
      ],
      "metadata": {
        "colab": {
          "base_uri": "https://localhost:8080/"
        },
        "id": "LlEYLmxpHNVI",
        "outputId": "72614f29-bfb8-48f8-93f5-707dd09e6631"
      },
      "id": "LlEYLmxpHNVI",
      "execution_count": null,
      "outputs": [
        {
          "output_type": "stream",
          "name": "stdout",
          "text": [
            "Embedding shape: 17834700\n"
          ]
        }
      ]
    },
    {
      "cell_type": "code",
      "source": [
        "# let's look at an embedding of a word\n",
        "embedding_weights[word_tokenizer.word_index['joy']]"
      ],
      "metadata": {
        "colab": {
          "base_uri": "https://localhost:8080/"
        },
        "id": "ldWg-qll5TB1",
        "outputId": "d09a6763-11ad-426a-ec9f-3d2b5d190d8c"
      },
      "id": "ldWg-qll5TB1",
      "execution_count": null,
      "outputs": [
        {
          "output_type": "execute_result",
          "data": {
            "text/plain": [
              "array([ 0.4453125 , -0.20019531,  0.20019531, -0.03149414,  0.078125  ,\n",
              "       -0.390625  ,  0.13671875, -0.13867188,  0.05395508,  0.10546875,\n",
              "       -0.05029297, -0.23730469,  0.19921875,  0.12597656, -0.12695312,\n",
              "        0.34179688,  0.06347656,  0.26757812, -0.07324219, -0.29101562,\n",
              "        0.10498047,  0.11914062,  0.23730469,  0.00640869,  0.12451172,\n",
              "       -0.00939941, -0.02770996,  0.03076172,  0.07421875, -0.22851562,\n",
              "       -0.08056641, -0.05273438,  0.16894531,  0.19824219, -0.15625   ,\n",
              "       -0.08740234,  0.10742188, -0.07177734,  0.05200195,  0.25976562,\n",
              "        0.171875  , -0.13574219,  0.06738281,  0.00531006,  0.15527344,\n",
              "       -0.03515625,  0.08789062,  0.3359375 , -0.12890625,  0.17578125,\n",
              "       -0.08642578,  0.32421875, -0.09033203,  0.35351562,  0.24316406,\n",
              "       -0.07470703, -0.06640625, -0.17578125,  0.06689453, -0.03833008,\n",
              "        0.0100708 , -0.21484375, -0.03686523,  0.04394531,  0.02209473,\n",
              "        0.00219727, -0.22460938,  0.03015137, -0.21582031,  0.16015625,\n",
              "        0.23339844, -0.16699219, -0.09228516,  0.10644531,  0.19335938,\n",
              "       -0.26757812,  0.15722656, -0.08691406,  0.11181641,  0.14941406,\n",
              "       -0.20507812,  0.04882812, -0.07519531, -0.21582031, -0.10107422,\n",
              "       -0.13378906, -0.06103516,  0.05444336,  0.07470703,  0.09521484,\n",
              "       -0.0144043 ,  0.27929688, -0.25585938, -0.05273438, -0.22460938,\n",
              "        0.10253906, -0.15136719,  0.21289062, -0.04711914, -0.12109375,\n",
              "        0.04663086,  0.25976562,  0.13574219,  0.00799561,  0.02001953,\n",
              "        0.1796875 ,  0.30664062,  0.06152344,  0.13574219, -0.09619141,\n",
              "       -0.07421875,  0.38671875,  0.20800781,  0.12695312,  0.05200195,\n",
              "        0.17675781, -0.16796875, -0.19335938, -0.06152344, -0.07568359,\n",
              "       -0.18457031,  0.06030273, -0.15136719, -0.1953125 , -0.23339844,\n",
              "        0.00738525, -0.02478027, -0.09765625, -0.06054688,  0.20214844,\n",
              "       -0.2734375 ,  0.00595093, -0.34570312, -0.12988281,  0.00418091,\n",
              "        0.09960938,  0.0246582 ,  0.15917969, -0.02038574,  0.30273438,\n",
              "       -0.20800781, -0.20214844, -0.03930664, -0.06494141,  0.00436401,\n",
              "       -0.02270508, -0.171875  ,  0.30273438, -0.16113281, -0.49414062,\n",
              "        0.3515625 ,  0.39257812,  0.09814453,  0.41796875,  0.05371094,\n",
              "        0.02392578, -0.03710938, -0.08251953, -0.38671875, -0.40625   ,\n",
              "       -0.05664062,  0.203125  , -0.01782227,  0.3359375 ,  0.19140625,\n",
              "       -0.44335938,  0.00927734,  0.24804688, -0.05102539,  0.19726562,\n",
              "        0.03881836,  0.03442383, -0.40039062, -0.09912109, -0.07128906,\n",
              "        0.21484375, -0.01422119,  0.04907227, -0.07421875, -0.21582031,\n",
              "       -0.41992188,  0.02172852,  0.11083984, -0.33398438, -0.2734375 ,\n",
              "       -0.05322266, -0.16601562, -0.28515625, -0.12207031,  0.04882812,\n",
              "       -0.0625    , -0.04077148, -0.16503906,  0.0480957 , -0.21191406,\n",
              "        0.20019531, -0.2109375 ,  0.10839844, -0.14648438, -0.07958984,\n",
              "       -0.05151367, -0.16601562, -0.24902344, -0.375     ,  0.05664062,\n",
              "       -0.13671875, -0.2578125 ,  0.28515625, -0.04736328,  0.13574219,\n",
              "       -0.14550781,  0.19433594, -0.21972656,  0.08447266, -0.10791016,\n",
              "       -0.11816406, -0.16015625,  0.12060547, -0.10888672,  0.04345703,\n",
              "        0.11474609, -0.08447266, -0.00720215,  0.03662109, -0.38671875,\n",
              "       -0.03881836, -0.03198242,  0.00344849,  0.22558594, -0.06787109,\n",
              "       -0.16699219,  0.2421875 ,  0.05712891,  0.27539062, -0.0456543 ,\n",
              "       -0.19042969, -0.17285156,  0.00836182, -0.03271484,  0.16992188,\n",
              "       -0.18554688, -0.0703125 , -0.32617188, -0.00668335, -0.02770996,\n",
              "        0.3359375 ,  0.125     , -0.2109375 ,  0.06005859, -0.07080078,\n",
              "        0.11132812,  0.125     ,  0.25390625,  0.29296875, -0.03125   ,\n",
              "        0.09033203, -0.20507812, -0.07861328,  0.02062988, -0.0546875 ,\n",
              "       -0.23339844,  0.00096893, -0.04516602,  0.16894531, -0.22167969,\n",
              "        0.08105469,  0.33398438,  0.09619141,  0.00866699, -0.03271484,\n",
              "        0.05493164,  0.12109375,  0.16210938, -0.10302734,  0.27148438,\n",
              "       -0.03344727, -0.30273438,  0.04223633,  0.08496094, -0.15527344,\n",
              "        0.10107422, -0.11474609, -0.13085938,  0.22949219,  0.12988281,\n",
              "        0.09863281, -0.03588867,  0.10693359, -0.24902344,  0.19238281,\n",
              "       -0.05322266, -0.09033203, -0.31640625, -0.5703125 , -0.15917969,\n",
              "        0.0291748 , -0.0246582 , -0.07714844, -0.04663086, -0.17578125])"
            ]
          },
          "metadata": {},
          "execution_count": 23
        }
      ]
    },
    {
      "cell_type": "markdown",
      "source": [
        "**Use one-hot encoding for output sequences (Y)**"
      ],
      "metadata": {
        "id": "ufqJ4qb2DxO1"
      },
      "id": "ufqJ4qb2DxO1"
    },
    {
      "cell_type": "code",
      "source": [
        "# use Keras' to_categorical function to one-hot encode Y\n",
        "Y = to_categorical(Y)"
      ],
      "metadata": {
        "id": "1Xz5kyjZ5W75"
      },
      "id": "1Xz5kyjZ5W75",
      "execution_count": null,
      "outputs": []
    },
    {
      "cell_type": "code",
      "source": [
        "print(Y.shape)"
      ],
      "metadata": {
        "colab": {
          "base_uri": "https://localhost:8080/"
        },
        "id": "1gnQXCQ9GuWT",
        "outputId": "1eac1a0c-0580-40eb-848c-6c84c06dc903"
      },
      "id": "1gnQXCQ9GuWT",
      "execution_count": null,
      "outputs": [
        {
          "output_type": "stream",
          "name": "stdout",
          "text": [
            "(72202, 100, 13)\n"
          ]
        }
      ]
    },
    {
      "cell_type": "markdown",
      "source": [
        "**Split data in training, validation and tesing sets**"
      ],
      "metadata": {
        "id": "WSpk09DiHaV5"
      },
      "id": "WSpk09DiHaV5"
    },
    {
      "cell_type": "code",
      "source": [
        "TEST_SIZE = 0.15\n",
        "X_train,X_test,Y_train,Y_test = train_test_split(X, Y, test_size=TEST_SIZE, random_state = 4)"
      ],
      "metadata": {
        "id": "q0BxcGweGw6B"
      },
      "id": "q0BxcGweGw6B",
      "execution_count": null,
      "outputs": []
    },
    {
      "cell_type": "code",
      "source": [
        "# split training data into training and validation sets\n",
        "VALID_SIZE = 0.15\n",
        "X_train, X_validation, Y_train, Y_validation = train_test_split(X_train, Y_train, test_size=VALID_SIZE, random_state=4)"
      ],
      "metadata": {
        "id": "6hlCY7cRHx8g"
      },
      "id": "6hlCY7cRHx8g",
      "execution_count": null,
      "outputs": []
    },
    {
      "cell_type": "code",
      "source": [
        "# print number of samples in each set\n",
        "print(\"TRAINING DATA\")\n",
        "print('Shape of input sequences: {}'.format(X_train.shape))\n",
        "print('Shape of output sequences: {}'.format(Y_train.shape))\n",
        "print(\"-\"*50)\n",
        "print(\"VALIDATION DATA\")\n",
        "print('Shape of input sequences: {}'.format(X_validation.shape))\n",
        "print('Shape of output sequences: {}'.format(Y_validation.shape))\n",
        "print(\"-\"*50)\n",
        "print(\"TESTING DATA\")\n",
        "print('Shape of input sequences: {}'.format(X_test.shape))\n",
        "print('Shape of output sequences: {}'.format(Y_test.shape))"
      ],
      "metadata": {
        "colab": {
          "base_uri": "https://localhost:8080/"
        },
        "id": "KWFj27ePH1RE",
        "outputId": "1fb1dc04-f764-412a-b8f8-e8879a70df1e"
      },
      "id": "KWFj27ePH1RE",
      "execution_count": null,
      "outputs": [
        {
          "output_type": "stream",
          "name": "stdout",
          "text": [
            "TRAINING DATA\n",
            "Shape of input sequences: (52165, 100)\n",
            "Shape of output sequences: (52165, 100, 13)\n",
            "--------------------------------------------------\n",
            "VALIDATION DATA\n",
            "Shape of input sequences: (9206, 100)\n",
            "Shape of output sequences: (9206, 100, 13)\n",
            "--------------------------------------------------\n",
            "TESTING DATA\n",
            "Shape of input sequences: (10831, 100)\n",
            "Shape of output sequences: (10831, 100, 13)\n"
          ]
        }
      ]
    },
    {
      "cell_type": "markdown",
      "source": [
        "Before using RNN, we must make sure the dimensions of the data are what an RNN expects. In general, an RNN expects the following shape\n",
        "\n",
        "Shape of X: (#samples, #timesteps, #features)\n",
        "\n",
        "Shape of Y: (#samples, #timesteps, #features)\n",
        "\n",
        "![RNN tensor shape](./jupyter resources/rnn_tensor.png)\n",
        "\n",
        "Now, there can be various variations in the shape that you use to feed an RNN depending on the type of architecture. Since the problem we're working on has a many-to-many architecture, the input and the output both include number of timesteps which is nothing but the sequence length. But notice that the tensor X doesn't have the third dimension, that is, number of features. That's because we're going to use word embeddings before feeding in the data to an RNN, and hence there is no need to explicitly mention the third dimension. That's because when you use the Embedding() layer in Keras, you the training data will automatically be converted to (#samples, #timesteps, #features) where #features will be the embedding dimention (and note that the Embedding layer is always the very first layer of an RNN). While using the embedding layer we only need to reshape the data to (#samples, #timesteps) which is what we have done. However, note that you'll need to shape it to (#samples, #timesteps, #features) in case you don't use the Embedding() layer in Keras."
      ],
      "metadata": {
        "id": "X83Izu2OIP_9"
      },
      "id": "X83Izu2OIP_9"
    },
    {
      "cell_type": "markdown",
      "source": [
        "Uninitialised fixed embeddings\n",
        "\n",
        "First let's try running a vanilla RNN. For this RNN we won't use the pre-trained word embeddings. We'll use randomly inititalised embeddings. Moreover, we won't update the embeddings weights."
      ],
      "metadata": {
        "id": "yB9UNwMYLP9l"
      },
      "id": "yB9UNwMYLP9l"
    },
    {
      "cell_type": "code",
      "source": [
        "# total no.of tags\n",
        "NUM_CLASSES = Y.shape[2]\n",
        "print(NUM_CLASSES)"
      ],
      "metadata": {
        "colab": {
          "base_uri": "https://localhost:8080/"
        },
        "id": "N5GBrMyFH7Dd",
        "outputId": "c78b3e70-ca1b-4522-b17d-f459a0daaef7"
      },
      "id": "N5GBrMyFH7Dd",
      "execution_count": null,
      "outputs": [
        {
          "output_type": "stream",
          "name": "stdout",
          "text": [
            "13\n"
          ]
        }
      ]
    },
    {
      "cell_type": "code",
      "source": [
        "# create architecture\n",
        "\n",
        "rnn_model = Sequential()\n",
        "\n",
        "# create embedding layer - usually the first layer in text-problems\n",
        "rnn_model.add(Embedding(input_dim = VOCABULARY_SIZE, # vocabulary size - number of unique words in data\n",
        "                        output_dim = EMBEDDING_SIZE, # length of vector with which each word is represented\n",
        "                        input_length = MAX_SEQ_LENGTH, # length of input sequence\n",
        "                        trainable = False # False - don't update the embeddings\n",
        "                        ))\n",
        "\n",
        "# add an RNN layer which contains 64 RNN cells\n",
        "rnn_model.add(SimpleRNN(64, return_sequences=True # True - return whole sequence; False - return single output of the end of the sequence\n",
        "                        ))\n",
        "\n",
        "# add time distributed (output at each sequence) layer\n",
        "\n",
        "rnn_model.add(TimeDistributed(Dense(NUM_CLASSES, activation='softmax')))"
      ],
      "metadata": {
        "id": "1VsImTDELl5O"
      },
      "id": "1VsImTDELl5O",
      "execution_count": null,
      "outputs": []
    },
    {
      "cell_type": "code",
      "source": [
        "rnn_model.compile(loss='categorical_crossentropy',\n",
        "                  optimizer = 'adam',\n",
        "                  metrics = ['acc'])"
      ],
      "metadata": {
        "id": "Ye8OmhMeQkfD"
      },
      "id": "Ye8OmhMeQkfD",
      "execution_count": null,
      "outputs": []
    },
    {
      "cell_type": "code",
      "source": [
        "rnn_model.summary()"
      ],
      "metadata": {
        "colab": {
          "base_uri": "https://localhost:8080/"
        },
        "id": "-YGU-6T7Q5w6",
        "outputId": "b81eee0c-6981-49e2-ddad-be8af98b169e"
      },
      "id": "-YGU-6T7Q5w6",
      "execution_count": null,
      "outputs": [
        {
          "output_type": "stream",
          "name": "stdout",
          "text": [
            "Model: \"sequential\"\n",
            "_________________________________________________________________\n",
            " Layer (type)                Output Shape              Param #   \n",
            "=================================================================\n",
            " embedding (Embedding)       (None, 100, 300)          17834700  \n",
            "                                                                 \n",
            " simple_rnn (SimpleRNN)      (None, 100, 64)           23360     \n",
            "                                                                 \n",
            " time_distributed (TimeDist  (None, 100, 13)           845       \n",
            " ributed)                                                        \n",
            "                                                                 \n",
            "=================================================================\n",
            "Total params: 17858905 (68.13 MB)\n",
            "Trainable params: 24205 (94.55 KB)\n",
            "Non-trainable params: 17834700 (68.03 MB)\n",
            "_________________________________________________________________\n"
          ]
        }
      ]
    },
    {
      "cell_type": "markdown",
      "source": [
        "**Fit Model**"
      ],
      "metadata": {
        "id": "qQwb6C6FRC77"
      },
      "id": "qQwb6C6FRC77"
    },
    {
      "cell_type": "code",
      "source": [
        "rnn_training = rnn_model.fit(X_train, Y_train, batch_size=128, epochs=10, validation_data=(X_validation,Y_validation))"
      ],
      "metadata": {
        "colab": {
          "base_uri": "https://localhost:8080/"
        },
        "id": "kdcIEp7JQ-JQ",
        "outputId": "6ea701d4-a969-45bf-ac23-db4e4dddb3af"
      },
      "id": "kdcIEp7JQ-JQ",
      "execution_count": null,
      "outputs": [
        {
          "output_type": "stream",
          "name": "stdout",
          "text": [
            "Epoch 1/10\n",
            "408/408 [==============================] - 45s 112ms/step - loss: 0.1220 - acc: 0.9589 - val_loss: 0.1205 - val_acc: 0.9596\n",
            "Epoch 2/10\n",
            "408/408 [==============================] - 54s 133ms/step - loss: 0.1199 - acc: 0.9594 - val_loss: 0.1177 - val_acc: 0.9600\n",
            "Epoch 3/10\n",
            "408/408 [==============================] - 46s 113ms/step - loss: 0.1181 - acc: 0.9599 - val_loss: 0.1162 - val_acc: 0.9607\n",
            "Epoch 4/10\n",
            "408/408 [==============================] - 52s 128ms/step - loss: 0.1165 - acc: 0.9603 - val_loss: 0.1149 - val_acc: 0.9611\n",
            "Epoch 5/10\n",
            "408/408 [==============================] - 58s 142ms/step - loss: 0.1151 - acc: 0.9607 - val_loss: 0.1136 - val_acc: 0.9614\n",
            "Epoch 6/10\n",
            "408/408 [==============================] - 37s 90ms/step - loss: 0.1138 - acc: 0.9611 - val_loss: 0.1126 - val_acc: 0.9618\n",
            "Epoch 7/10\n",
            "408/408 [==============================] - 37s 91ms/step - loss: 0.1125 - acc: 0.9615 - val_loss: 0.1110 - val_acc: 0.9619\n",
            "Epoch 8/10\n",
            "408/408 [==============================] - 40s 98ms/step - loss: 0.1112 - acc: 0.9619 - val_loss: 0.1099 - val_acc: 0.9623\n",
            "Epoch 9/10\n",
            "408/408 [==============================] - 39s 97ms/step - loss: 0.1099 - acc: 0.9624 - val_loss: 0.1092 - val_acc: 0.9628\n",
            "Epoch 10/10\n",
            "408/408 [==============================] - 58s 142ms/step - loss: 0.1086 - acc: 0.9628 - val_loss: 0.1075 - val_acc: 0.9631\n"
          ]
        }
      ]
    },
    {
      "cell_type": "markdown",
      "source": [
        "**Uninitialised Trainable embeddings**"
      ],
      "metadata": {
        "id": "tHG7UhzuVg77"
      },
      "id": "tHG7UhzuVg77"
    },
    {
      "cell_type": "code",
      "source": [
        "rnn_model = Sequential()\n",
        "\n",
        "rnn_model.add(Embedding(input_dim     =  VOCABULARY_SIZE,         # vocabulary size - number of unique words in data\n",
        "                        output_dim    =  EMBEDDING_SIZE,          # length of vector with which each word is represented\n",
        "                        input_length  =  MAX_SEQ_LENGTH,          # length of input sequence\n",
        "                        trainable     =  True                     # True - update the embeddings while training\n",
        "))\n",
        "\n",
        "# add an rnn layer which consists 64 rnn cells\n",
        "rnn_model.add(SimpleRNN(64,\n",
        "                        return_sequences=True))\n",
        "\n",
        "rnn_model.add(TimeDistributed(Dense(NUM_CLASSES, activation='softmax')))"
      ],
      "metadata": {
        "id": "zDFngG5mRbHr"
      },
      "id": "zDFngG5mRbHr",
      "execution_count": null,
      "outputs": []
    },
    {
      "cell_type": "markdown",
      "source": [
        "**Compile Model**"
      ],
      "metadata": {
        "id": "KQw8kpVrW9KG"
      },
      "id": "KQw8kpVrW9KG"
    },
    {
      "cell_type": "code",
      "source": [
        "rnn_model.compile(loss='categorical_crossentropy',\n",
        "                  optimizer='adam',\n",
        "                  metrics=['acc'])"
      ],
      "metadata": {
        "id": "SDDmh3j-W6ed"
      },
      "id": "SDDmh3j-W6ed",
      "execution_count": null,
      "outputs": []
    },
    {
      "cell_type": "code",
      "source": [
        "# summary\n",
        "rnn_model.summary()"
      ],
      "metadata": {
        "colab": {
          "base_uri": "https://localhost:8080/"
        },
        "id": "Lhmsrn2dXUKr",
        "outputId": "0bcd837c-a6b7-41b8-f93a-1f3d8b930cfe"
      },
      "id": "Lhmsrn2dXUKr",
      "execution_count": null,
      "outputs": [
        {
          "output_type": "stream",
          "name": "stdout",
          "text": [
            "Model: \"sequential_1\"\n",
            "_________________________________________________________________\n",
            " Layer (type)                Output Shape              Param #   \n",
            "=================================================================\n",
            " embedding_1 (Embedding)     (None, 100, 300)          17834700  \n",
            "                                                                 \n",
            " simple_rnn_1 (SimpleRNN)    (None, 100, 64)           23360     \n",
            "                                                                 \n",
            " time_distributed_1 (TimeDi  (None, 100, 13)           845       \n",
            " stributed)                                                      \n",
            "                                                                 \n",
            "=================================================================\n",
            "Total params: 17858905 (68.13 MB)\n",
            "Trainable params: 17858905 (68.13 MB)\n",
            "Non-trainable params: 0 (0.00 Byte)\n",
            "_________________________________________________________________\n"
          ]
        }
      ]
    },
    {
      "cell_type": "code",
      "source": [
        "# Fit model\n",
        "\n",
        "rnn_training = rnn_model.fit(X_train,Y_train,batch_size=128, epochs=10, validation_data=(X_validation,Y_validation))"
      ],
      "metadata": {
        "colab": {
          "base_uri": "https://localhost:8080/"
        },
        "id": "K4eOaaqLXXQA",
        "outputId": "0c71f8d2-dd7f-4ad3-8ceb-d8ca08bbe051"
      },
      "id": "K4eOaaqLXXQA",
      "execution_count": null,
      "outputs": [
        {
          "output_type": "stream",
          "name": "stdout",
          "text": [
            "Epoch 1/10\n",
            "408/408 [==============================] - 106s 255ms/step - loss: 0.2181 - acc: 0.9496 - val_loss: 0.0425 - val_acc: 0.9874\n",
            "Epoch 2/10\n",
            "408/408 [==============================] - 62s 153ms/step - loss: 0.0306 - acc: 0.9902 - val_loss: 0.0300 - val_acc: 0.9897\n",
            "Epoch 3/10\n",
            "408/408 [==============================] - 47s 115ms/step - loss: 0.0213 - acc: 0.9926 - val_loss: 0.0275 - val_acc: 0.9902\n",
            "Epoch 4/10\n",
            "408/408 [==============================] - 50s 121ms/step - loss: 0.0175 - acc: 0.9938 - val_loss: 0.0270 - val_acc: 0.9904\n",
            "Epoch 5/10\n",
            "408/408 [==============================] - 47s 116ms/step - loss: 0.0151 - acc: 0.9946 - val_loss: 0.0271 - val_acc: 0.9904\n",
            "Epoch 6/10\n",
            "408/408 [==============================] - 46s 113ms/step - loss: 0.0131 - acc: 0.9954 - val_loss: 0.0280 - val_acc: 0.9903\n",
            "Epoch 7/10\n",
            "408/408 [==============================] - 45s 110ms/step - loss: 0.0112 - acc: 0.9961 - val_loss: 0.0293 - val_acc: 0.9903\n",
            "Epoch 8/10\n",
            "408/408 [==============================] - 48s 117ms/step - loss: 0.0095 - acc: 0.9968 - val_loss: 0.0311 - val_acc: 0.9899\n",
            "Epoch 9/10\n",
            "408/408 [==============================] - 48s 116ms/step - loss: 0.0080 - acc: 0.9974 - val_loss: 0.0334 - val_acc: 0.9898\n",
            "Epoch 10/10\n",
            "408/408 [==============================] - 46s 112ms/step - loss: 0.0067 - acc: 0.9979 - val_loss: 0.0358 - val_acc: 0.9894\n"
          ]
        }
      ]
    },
    {
      "cell_type": "code",
      "source": [
        "# visualise training history\n",
        "plt.plot(rnn_training.history['acc'])\n",
        "plt.plot(rnn_training.history['val_acc'])\n",
        "plt.title('model accuracy')\n",
        "plt.ylabel('accuracy')\n",
        "plt.xlabel('epoch')\n",
        "plt.legend(['train', 'test'], loc=\"lower right\")\n",
        "plt.show()"
      ],
      "metadata": {
        "colab": {
          "base_uri": "https://localhost:8080/",
          "height": 472
        },
        "id": "KT5oLfiWZOH4",
        "outputId": "ee63b928-cdad-45d0-965e-4d2266af49f3"
      },
      "id": "KT5oLfiWZOH4",
      "execution_count": null,
      "outputs": [
        {
          "output_type": "display_data",
          "data": {
            "text/plain": [
              "<Figure size 640x480 with 1 Axes>"
            ],
            "image/png": "[encoded data removed]"
          },
          "metadata": {}
        }
      ]
    },
    {
      "cell_type": "markdown",
      "source": [
        "**Using pre-trained embedding weights**"
      ],
      "metadata": {
        "id": "n0V7C1lsZwsv"
      },
      "id": "n0V7C1lsZwsv"
    },
    {
      "cell_type": "code",
      "source": [
        "# create architecture\n",
        "\n",
        "rnn_model = Sequential()\n",
        "\n",
        "# create embedding layer - usually the first layer in text problems\n",
        "rnn_model.add(Embedding(input_dim     =  VOCABULARY_SIZE,         # vocabulary size - number of unique words in data\n",
        "                        output_dim    =  EMBEDDING_SIZE,          # length of vector with which each word is represented\n",
        "                        input_length  =  MAX_SEQ_LENGTH,          # length of input sequence\n",
        "                        weights       = [embedding_weights],      # word embedding matrix\n",
        "                        trainable     =  True                     # True - update the embeddings while training\n",
        "))\n",
        "\n",
        "# add an RNN layer which contains 64 RNN cells\n",
        "rnn_model.add(SimpleRNN(64,\n",
        "              return_sequences=True  # True - return whole sequence; False - return single output of the end of the sequence\n",
        "))\n",
        "\n",
        "# add time distributed (output at each sequence) layer\n",
        "rnn_model.add(TimeDistributed(Dense(NUM_CLASSES, activation='softmax')))"
      ],
      "metadata": {
        "id": "Mp5but_wZsyY"
      },
      "id": "Mp5but_wZsyY",
      "execution_count": null,
      "outputs": []
    },
    {
      "cell_type": "code",
      "source": [
        "# compile\n",
        "rnn_model.compile(loss='categorical_crossentropy',\n",
        "                  optimizer='adam',\n",
        "                  metrics=['acc'])"
      ],
      "metadata": {
        "id": "v8IaJ824baNY"
      },
      "id": "v8IaJ824baNY",
      "execution_count": null,
      "outputs": []
    },
    {
      "cell_type": "code",
      "source": [
        "rnn_model.summary()"
      ],
      "metadata": {
        "colab": {
          "base_uri": "https://localhost:8080/"
        },
        "id": "BkbxWlgBbk4X",
        "outputId": "e60cd1f6-6553-4ad9-df44-68a8ee9ac9a3"
      },
      "id": "BkbxWlgBbk4X",
      "execution_count": null,
      "outputs": [
        {
          "output_type": "stream",
          "name": "stdout",
          "text": [
            "Model: \"sequential_2\"\n",
            "_________________________________________________________________\n",
            " Layer (type)                Output Shape              Param #   \n",
            "=================================================================\n",
            " embedding_2 (Embedding)     (None, 100, 300)          17834700  \n",
            "                                                                 \n",
            " simple_rnn_2 (SimpleRNN)    (None, 100, 64)           23360     \n",
            "                                                                 \n",
            " time_distributed_2 (TimeDi  (None, 100, 13)           845       \n",
            " stributed)                                                      \n",
            "                                                                 \n",
            "=================================================================\n",
            "Total params: 17858905 (68.13 MB)\n",
            "Trainable params: 17858905 (68.13 MB)\n",
            "Non-trainable params: 0 (0.00 Byte)\n",
            "_________________________________________________________________\n"
          ]
        }
      ]
    },
    {
      "cell_type": "code",
      "source": [
        "rnn_training = rnn_model.fit(X_train, Y_train, batch_size=128, epochs=10, validation_data=(X_validation, Y_validation))"
      ],
      "metadata": {
        "colab": {
          "base_uri": "https://localhost:8080/"
        },
        "id": "8a59Vr_8bmjZ",
        "outputId": "0519b235-dd1e-49ed-9b8f-0067abec3a6b"
      },
      "id": "8a59Vr_8bmjZ",
      "execution_count": null,
      "outputs": [
        {
          "output_type": "stream",
          "name": "stdout",
          "text": [
            "Epoch 1/10\n",
            "408/408 [==============================] - 68s 160ms/step - loss: 0.1753 - acc: 0.9623 - val_loss: 0.0342 - val_acc: 0.9890\n",
            "Epoch 2/10\n",
            "408/408 [==============================] - 73s 178ms/step - loss: 0.0263 - acc: 0.9911 - val_loss: 0.0269 - val_acc: 0.9904\n",
            "Epoch 3/10\n",
            "408/408 [==============================] - 67s 164ms/step - loss: 0.0197 - acc: 0.9929 - val_loss: 0.0253 - val_acc: 0.9910\n",
            "Epoch 4/10\n",
            "408/408 [==============================] - 71s 174ms/step - loss: 0.0168 - acc: 0.9939 - val_loss: 0.0249 - val_acc: 0.9911\n",
            "Epoch 5/10\n",
            "408/408 [==============================] - 56s 137ms/step - loss: 0.0148 - acc: 0.9946 - val_loss: 0.0250 - val_acc: 0.9912\n",
            "Epoch 6/10\n",
            "408/408 [==============================] - 52s 127ms/step - loss: 0.0131 - acc: 0.9953 - val_loss: 0.0256 - val_acc: 0.9911\n",
            "Epoch 7/10\n",
            "408/408 [==============================] - 56s 136ms/step - loss: 0.0116 - acc: 0.9959 - val_loss: 0.0264 - val_acc: 0.9911\n",
            "Epoch 8/10\n",
            "408/408 [==============================] - 48s 117ms/step - loss: 0.0102 - acc: 0.9965 - val_loss: 0.0276 - val_acc: 0.9910\n",
            "Epoch 9/10\n",
            "408/408 [==============================] - 43s 104ms/step - loss: 0.0089 - acc: 0.9970 - val_loss: 0.0290 - val_acc: 0.9907\n",
            "Epoch 10/10\n",
            "408/408 [==============================] - 48s 117ms/step - loss: 0.0076 - acc: 0.9974 - val_loss: 0.0310 - val_acc: 0.9906\n"
          ]
        }
      ]
    },
    {
      "cell_type": "code",
      "source": [
        "# visualise training history\n",
        "plt.plot(rnn_training.history['acc'])\n",
        "plt.plot(rnn_training.history['val_acc'])\n",
        "plt.title('model accuracy')\n",
        "plt.ylabel('accuracy')\n",
        "plt.xlabel('epoch')\n",
        "plt.legend(['train', 'test'], loc=\"lower right\")\n",
        "plt.show()"
      ],
      "metadata": {
        "colab": {
          "base_uri": "https://localhost:8080/",
          "height": 472
        },
        "id": "iFzVDu48bq2a",
        "outputId": "a2104827-a0ef-47cf-93ed-17fe92167ab7"
      },
      "id": "iFzVDu48bq2a",
      "execution_count": null,
      "outputs": [
        {
          "output_type": "display_data",
          "data": {
            "text/plain": [
              "<Figure size 640x480 with 1 Axes>"
            ],
            "image/png": "[encoded data removed]"
          },
          "metadata": {}
        }
      ]
    },
    {
      "cell_type": "markdown",
      "source": [
        "2. LSTM\n",
        "\n",
        "We'll use pre-trained word embeddings in following models and allow them to be updated as well."
      ],
      "metadata": {
        "id": "TDkSkTlYb-Qe"
      },
      "id": "TDkSkTlYb-Qe"
    },
    {
      "cell_type": "code",
      "source": [
        "# create model architecture\n",
        "lstm_model = Sequential()\n",
        "lstm_model.add(Embedding(input_dim     = VOCABULARY_SIZE,         # vocabulary size - number of unique words in data\n",
        "                         output_dim    = EMBEDDING_SIZE,          # length of vector with which each word is represented\n",
        "                         input_length  = MAX_SEQ_LENGTH,          # length of input sequence\n",
        "                         weights       = [embedding_weights],     # word embedding matrix\n",
        "                         trainable     = True\n",
        "                         ))\n",
        "\n",
        "lstm_model.add(LSTM(64, return_sequences=True))\n",
        "lstm_model.add(TimeDistributed(Dense(NUM_CLASSES,activation='softmax')))"
      ],
      "metadata": {
        "id": "j9wQhGUgb_dY"
      },
      "id": "j9wQhGUgb_dY",
      "execution_count": null,
      "outputs": []
    },
    {
      "cell_type": "code",
      "source": [
        "# compile\n",
        "lstm_model.compile(loss      =  'categorical_crossentropy',\n",
        "                   optimizer =  'adam',\n",
        "                   metrics   =  ['acc'])"
      ],
      "metadata": {
        "id": "V93kC31ycmXm"
      },
      "id": "V93kC31ycmXm",
      "execution_count": null,
      "outputs": []
    },
    {
      "cell_type": "code",
      "source": [
        "lstm_model.summary()"
      ],
      "metadata": {
        "colab": {
          "base_uri": "https://localhost:8080/"
        },
        "id": "Ui-fY1jtcwCc",
        "outputId": "57fc0287-2801-4812-adc1-92823c52b5c9"
      },
      "id": "Ui-fY1jtcwCc",
      "execution_count": null,
      "outputs": [
        {
          "output_type": "stream",
          "name": "stdout",
          "text": [
            "Model: \"sequential_3\"\n",
            "_________________________________________________________________\n",
            " Layer (type)                Output Shape              Param #   \n",
            "=================================================================\n",
            " embedding_3 (Embedding)     (None, 100, 300)          17834700  \n",
            "                                                                 \n",
            " lstm (LSTM)                 (None, 100, 64)           93440     \n",
            "                                                                 \n",
            " time_distributed_3 (TimeDi  (None, 100, 13)           845       \n",
            " stributed)                                                      \n",
            "                                                                 \n",
            "=================================================================\n",
            "Total params: 17928985 (68.39 MB)\n",
            "Trainable params: 17928985 (68.39 MB)\n",
            "Non-trainable params: 0 (0.00 Byte)\n",
            "_________________________________________________________________\n"
          ]
        }
      ]
    },
    {
      "cell_type": "code",
      "source": [
        "# fit model\n",
        "lstm_training = lstm_model.fit(X_train, Y_train, batch_size=128, epochs=10, validation_data=(X_validation, Y_validation))"
      ],
      "metadata": {
        "colab": {
          "base_uri": "https://localhost:8080/"
        },
        "id": "hzk85oxxcyeJ",
        "outputId": "2cb0afff-1deb-454b-bb45-e58a984a5056"
      },
      "id": "hzk85oxxcyeJ",
      "execution_count": null,
      "outputs": [
        {
          "output_type": "stream",
          "name": "stdout",
          "text": [
            "Epoch 1/10\n",
            "408/408 [==============================] - 34s 76ms/step - loss: 0.3137 - acc: 0.9291 - val_loss: 0.0483 - val_acc: 0.9869\n",
            "Epoch 2/10\n",
            "408/408 [==============================] - 12s 28ms/step - loss: 0.0344 - acc: 0.9894 - val_loss: 0.0301 - val_acc: 0.9899\n",
            "Epoch 3/10\n",
            "408/408 [==============================] - 9s 21ms/step - loss: 0.0238 - acc: 0.9917 - val_loss: 0.0266 - val_acc: 0.9906\n",
            "Epoch 4/10\n",
            "408/408 [==============================] - 7s 18ms/step - loss: 0.0202 - acc: 0.9927 - val_loss: 0.0253 - val_acc: 0.9909\n",
            "Epoch 5/10\n",
            "408/408 [==============================] - 7s 17ms/step - loss: 0.0181 - acc: 0.9934 - val_loss: 0.0246 - val_acc: 0.9911\n",
            "Epoch 6/10\n",
            "408/408 [==============================] - 7s 16ms/step - loss: 0.0166 - acc: 0.9939 - val_loss: 0.0244 - val_acc: 0.9912\n",
            "Epoch 7/10\n",
            "408/408 [==============================] - 7s 17ms/step - loss: 0.0152 - acc: 0.9944 - val_loss: 0.0243 - val_acc: 0.9914\n",
            "Epoch 8/10\n",
            "408/408 [==============================] - 6s 16ms/step - loss: 0.0138 - acc: 0.9950 - val_loss: 0.0244 - val_acc: 0.9915\n",
            "Epoch 9/10\n",
            "408/408 [==============================] - 11s 26ms/step - loss: 0.0125 - acc: 0.9956 - val_loss: 0.0248 - val_acc: 0.9915\n",
            "Epoch 10/10\n",
            "408/408 [==============================] - 6s 15ms/step - loss: 0.0111 - acc: 0.9961 - val_loss: 0.0253 - val_acc: 0.9915\n"
          ]
        }
      ]
    },
    {
      "cell_type": "code",
      "source": [
        "# visualise training history\n",
        "plt.plot(lstm_training.history['acc'])\n",
        "plt.plot(lstm_training.history['val_acc'])\n",
        "plt.title('model accuracy')\n",
        "plt.ylabel('accuracy')\n",
        "plt.xlabel('epoch')\n",
        "plt.legend(['train', 'test'], loc=\"lower right\")\n",
        "plt.show()"
      ],
      "metadata": {
        "colab": {
          "base_uri": "https://localhost:8080/",
          "height": 472
        },
        "id": "fQNlGSVac3uS",
        "outputId": "31bb00c5-f0d1-4b57-c0e4-3aa3d9954edc"
      },
      "id": "fQNlGSVac3uS",
      "execution_count": null,
      "outputs": [
        {
          "output_type": "display_data",
          "data": {
            "text/plain": [
              "<Figure size 640x480 with 1 Axes>"
            ],
            "image/png": "[encoded data removed]"
          },
          "metadata": {}
        }
      ]
    },
    {
      "cell_type": "markdown",
      "source": [
        "4. GRU\n",
        "\n",
        "Create model architecture"
      ],
      "metadata": {
        "id": "2oRVwiKwc7Xj"
      },
      "id": "2oRVwiKwc7Xj"
    },
    {
      "cell_type": "code",
      "source": [
        "# create architecture\n",
        "\n",
        "gru_model = Sequential()\n",
        "gru_model.add(Embedding(input_dim     = VOCABULARY_SIZE,\n",
        "                        output_dim    = EMBEDDING_SIZE,\n",
        "                        input_length  = MAX_SEQ_LENGTH,\n",
        "                        weights       = [embedding_weights],\n",
        "                        trainable     = True\n",
        "))\n",
        "gru_model.add(GRU(64, return_sequences=True))\n",
        "gru_model.add(TimeDistributed(Dense(NUM_CLASSES, activation='softmax')))"
      ],
      "metadata": {
        "id": "Na6JuJzdc_BT"
      },
      "id": "Na6JuJzdc_BT",
      "execution_count": null,
      "outputs": []
    },
    {
      "cell_type": "code",
      "source": [
        "gru_model.compile(loss='categorical_crossentropy',\n",
        "              optimizer='adam',\n",
        "              metrics=['acc'])"
      ],
      "metadata": {
        "id": "iZj7ejXcdGcB"
      },
      "id": "iZj7ejXcdGcB",
      "execution_count": null,
      "outputs": []
    },
    {
      "cell_type": "code",
      "source": [
        "# check summary of model\n",
        "gru_model.summary()"
      ],
      "metadata": {
        "colab": {
          "base_uri": "https://localhost:8080/"
        },
        "id": "PF1p_849dIf0",
        "outputId": "b20bcfbf-f572-4a6a-dfd8-60df1f6f0e6b"
      },
      "id": "PF1p_849dIf0",
      "execution_count": null,
      "outputs": [
        {
          "output_type": "stream",
          "name": "stdout",
          "text": [
            "Model: \"sequential_4\"\n",
            "_________________________________________________________________\n",
            " Layer (type)                Output Shape              Param #   \n",
            "=================================================================\n",
            " embedding_4 (Embedding)     (None, 100, 300)          17834700  \n",
            "                                                                 \n",
            " gru (GRU)                   (None, 100, 64)           70272     \n",
            "                                                                 \n",
            " time_distributed_4 (TimeDi  (None, 100, 13)           845       \n",
            " stributed)                                                      \n",
            "                                                                 \n",
            "=================================================================\n",
            "Total params: 17905817 (68.31 MB)\n",
            "Trainable params: 17905817 (68.31 MB)\n",
            "Non-trainable params: 0 (0.00 Byte)\n",
            "_________________________________________________________________\n"
          ]
        }
      ]
    },
    {
      "cell_type": "code",
      "source": [
        "# fit model\n",
        "gru_training = gru_model.fit(X_train, Y_train, batch_size=128, epochs=10, validation_data=(X_validation, Y_validation))"
      ],
      "metadata": {
        "colab": {
          "base_uri": "https://localhost:8080/"
        },
        "id": "YZzEYw59dKdN",
        "outputId": "88b56ab2-c5e5-4510-f165-8e7f2799a6e5"
      },
      "id": "YZzEYw59dKdN",
      "execution_count": null,
      "outputs": [
        {
          "output_type": "stream",
          "name": "stdout",
          "text": [
            "Epoch 1/10\n",
            "408/408 [==============================] - 35s 82ms/step - loss: 0.2259 - acc: 0.9561 - val_loss: 0.0356 - val_acc: 0.9885\n",
            "Epoch 2/10\n",
            "408/408 [==============================] - 11s 28ms/step - loss: 0.0276 - acc: 0.9904 - val_loss: 0.0270 - val_acc: 0.9903\n",
            "Epoch 3/10\n",
            "408/408 [==============================] - 10s 24ms/step - loss: 0.0207 - acc: 0.9924 - val_loss: 0.0249 - val_acc: 0.9909\n",
            "Epoch 4/10\n",
            "408/408 [==============================] - 10s 25ms/step - loss: 0.0180 - acc: 0.9933 - val_loss: 0.0241 - val_acc: 0.9912\n",
            "Epoch 5/10\n",
            "408/408 [==============================] - 7s 16ms/step - loss: 0.0163 - acc: 0.9939 - val_loss: 0.0238 - val_acc: 0.9914\n",
            "Epoch 6/10\n",
            "408/408 [==============================] - 7s 16ms/step - loss: 0.0149 - acc: 0.9944 - val_loss: 0.0240 - val_acc: 0.9915\n",
            "Epoch 7/10\n",
            "408/408 [==============================] - 6s 16ms/step - loss: 0.0137 - acc: 0.9948 - val_loss: 0.0241 - val_acc: 0.9915\n",
            "Epoch 8/10\n",
            "408/408 [==============================] - 7s 18ms/step - loss: 0.0126 - acc: 0.9953 - val_loss: 0.0245 - val_acc: 0.9916\n",
            "Epoch 9/10\n",
            "408/408 [==============================] - 6s 14ms/step - loss: 0.0115 - acc: 0.9958 - val_loss: 0.0250 - val_acc: 0.9916\n",
            "Epoch 10/10\n",
            "408/408 [==============================] - 6s 15ms/step - loss: 0.0104 - acc: 0.9962 - val_loss: 0.0260 - val_acc: 0.9915\n"
          ]
        }
      ]
    },
    {
      "cell_type": "code",
      "source": [
        "# visualise training history\n",
        "plt.plot(gru_training.history['acc'])\n",
        "plt.plot(gru_training.history['val_acc'])\n",
        "plt.title('model accuracy')\n",
        "plt.ylabel('accuracy')\n",
        "plt.xlabel('epoch')\n",
        "plt.legend(['train', 'test'], loc=\"lower right\")\n",
        "plt.show()"
      ],
      "metadata": {
        "colab": {
          "base_uri": "https://localhost:8080/",
          "height": 472
        },
        "id": "R6GVTZNTdO_8",
        "outputId": "5d6cfc80-438c-4a2e-ae60-75b34fe3ae0c"
      },
      "id": "R6GVTZNTdO_8",
      "execution_count": null,
      "outputs": [
        {
          "output_type": "display_data",
          "data": {
            "text/plain": [
              "<Figure size 640x480 with 1 Axes>"
            ],
            "image/png": "[encoded data removed]"
          },
          "metadata": {}
        }
      ]
    },
    {
      "cell_type": "markdown",
      "source": [
        "4. Bidirectional LSTM\n",
        "\n",
        "Create model architecture"
      ],
      "metadata": {
        "id": "GF3jX9WPdfB7"
      },
      "id": "GF3jX9WPdfB7"
    },
    {
      "cell_type": "code",
      "source": [
        "# create architecture\n",
        "\n",
        "bidirect_model = Sequential()\n",
        "bidirect_model.add(Embedding(input_dim     = VOCABULARY_SIZE,\n",
        "                             output_dim    = EMBEDDING_SIZE,\n",
        "                             input_length  = MAX_SEQ_LENGTH,\n",
        "                             weights       = [embedding_weights],\n",
        "                             trainable     = True\n",
        "))\n",
        "bidirect_model.add(Bidirectional(LSTM(64, return_sequences=True)))\n",
        "bidirect_model.add(TimeDistributed(Dense(NUM_CLASSES, activation='softmax')))"
      ],
      "metadata": {
        "id": "M5AMepqvdQxb"
      },
      "id": "M5AMepqvdQxb",
      "execution_count": null,
      "outputs": []
    },
    {
      "cell_type": "code",
      "source": [
        "bidirect_model.compile(loss='categorical_crossentropy',\n",
        "              optimizer='adam',\n",
        "              metrics=['acc'])"
      ],
      "metadata": {
        "id": "wXB4dwhTfMzo"
      },
      "id": "wXB4dwhTfMzo",
      "execution_count": null,
      "outputs": []
    },
    {
      "cell_type": "code",
      "source": [
        "bidirect_model.summary()"
      ],
      "metadata": {
        "colab": {
          "base_uri": "https://localhost:8080/"
        },
        "id": "LhMiy3kgfP4I",
        "outputId": "ee557892-684e-4004-af4c-92a8d699e604"
      },
      "id": "LhMiy3kgfP4I",
      "execution_count": null,
      "outputs": [
        {
          "output_type": "stream",
          "name": "stdout",
          "text": [
            "Model: \"sequential_5\"\n",
            "_________________________________________________________________\n",
            " Layer (type)                Output Shape              Param #   \n",
            "=================================================================\n",
            " embedding_5 (Embedding)     (None, 100, 300)          17834700  \n",
            "                                                                 \n",
            " bidirectional (Bidirection  (None, 100, 128)          186880    \n",
            " al)                                                             \n",
            "                                                                 \n",
            " time_distributed_5 (TimeDi  (None, 100, 13)           1677      \n",
            " stributed)                                                      \n",
            "                                                                 \n",
            "=================================================================\n",
            "Total params: 18023257 (68.75 MB)\n",
            "Trainable params: 18023257 (68.75 MB)\n",
            "Non-trainable params: 0 (0.00 Byte)\n",
            "_________________________________________________________________\n"
          ]
        }
      ]
    },
    {
      "cell_type": "code",
      "source": [
        "# fit model\n",
        "bidirect_training = bidirect_model.fit(X_train, Y_train, batch_size=128, epochs=10, validation_data=(X_validation, Y_validation))"
      ],
      "metadata": {
        "colab": {
          "base_uri": "https://localhost:8080/"
        },
        "id": "ELNbWPZ2fc5l",
        "outputId": "12825146-b529-4005-bf2d-221a76ec42a5"
      },
      "id": "ELNbWPZ2fc5l",
      "execution_count": null,
      "outputs": [
        {
          "output_type": "stream",
          "name": "stdout",
          "text": [
            "Epoch 1/10\n",
            "408/408 [==============================] - 36s 76ms/step - loss: 0.2306 - acc: 0.9457 - val_loss: 0.0309 - val_acc: 0.9906\n",
            "Epoch 2/10\n",
            "408/408 [==============================] - 14s 35ms/step - loss: 0.0228 - acc: 0.9927 - val_loss: 0.0215 - val_acc: 0.9929\n",
            "Epoch 3/10\n",
            "408/408 [==============================] - 10s 25ms/step - loss: 0.0157 - acc: 0.9948 - val_loss: 0.0193 - val_acc: 0.9934\n",
            "Epoch 4/10\n",
            "408/408 [==============================] - 10s 25ms/step - loss: 0.0125 - acc: 0.9958 - val_loss: 0.0186 - val_acc: 0.9937\n",
            "Epoch 5/10\n",
            "408/408 [==============================] - 9s 23ms/step - loss: 0.0103 - acc: 0.9966 - val_loss: 0.0182 - val_acc: 0.9940\n",
            "Epoch 6/10\n",
            "408/408 [==============================] - 9s 23ms/step - loss: 0.0084 - acc: 0.9972 - val_loss: 0.0182 - val_acc: 0.9941\n",
            "Epoch 7/10\n",
            "408/408 [==============================] - 9s 23ms/step - loss: 0.0067 - acc: 0.9979 - val_loss: 0.0189 - val_acc: 0.9941\n",
            "Epoch 8/10\n",
            "408/408 [==============================] - 8s 21ms/step - loss: 0.0053 - acc: 0.9984 - val_loss: 0.0197 - val_acc: 0.9941\n",
            "Epoch 9/10\n",
            "408/408 [==============================] - 9s 21ms/step - loss: 0.0040 - acc: 0.9988 - val_loss: 0.0207 - val_acc: 0.9940\n",
            "Epoch 10/10\n",
            "408/408 [==============================] - 9s 21ms/step - loss: 0.0031 - acc: 0.9992 - val_loss: 0.0224 - val_acc: 0.9939\n"
          ]
        }
      ]
    },
    {
      "cell_type": "code",
      "source": [
        "# visualise training history\n",
        "plt.plot(bidirect_training.history['acc'])\n",
        "plt.plot(bidirect_training.history['val_acc'])\n",
        "plt.title('model accuracy')\n",
        "plt.ylabel('accuracy')\n",
        "plt.xlabel('epoch')\n",
        "plt.legend(['train', 'test'], loc=\"lower right\")\n",
        "plt.show()"
      ],
      "metadata": {
        "colab": {
          "base_uri": "https://localhost:8080/",
          "height": 472
        },
        "id": "ML_ZIdDPfkRd",
        "outputId": "84bdbf46-c4be-4cbd-fc2c-411360ad82d6"
      },
      "id": "ML_ZIdDPfkRd",
      "execution_count": null,
      "outputs": [
        {
          "output_type": "display_data",
          "data": {
            "text/plain": [
              "<Figure size 640x480 with 1 Axes>"
            ],
            "image/png": "[encoded data removed]"
          },
          "metadata": {}
        }
      ]
    },
    {
      "cell_type": "markdown",
      "source": [
        "5. Model evaluation"
      ],
      "metadata": {
        "id": "Bk9hAeLYfxEV"
      },
      "id": "Bk9hAeLYfxEV"
    },
    {
      "cell_type": "code",
      "source": [
        "loss, accuracy = rnn_model.evaluate(X_test,Y_test, verbose=1)\n",
        "print('loss : {}, \\nAccuracy : {}'.format(loss, accuracy))"
      ],
      "metadata": {
        "colab": {
          "base_uri": "https://localhost:8080/"
        },
        "id": "WucIhUZufzHM",
        "outputId": "6111abab-4d7e-41b6-9c80-551f92ccd54e"
      },
      "id": "WucIhUZufzHM",
      "execution_count": null,
      "outputs": [
        {
          "output_type": "stream",
          "name": "stdout",
          "text": [
            "339/339 [==============================] - 4s 13ms/step - loss: 0.0309 - acc: 0.9905\n",
            "loss : 0.03089800477027893, \n",
            "Accuracy : 0.9905161261558533\n"
          ]
        }
      ]
    },
    {
      "cell_type": "code",
      "source": [
        "loss, accuracy = lstm_model.evaluate(X_test, Y_test, verbose = 1)\n",
        "print(\"Loss: {0},\\nAccuracy: {1}\".format(loss, accuracy))"
      ],
      "metadata": {
        "colab": {
          "base_uri": "https://localhost:8080/"
        },
        "id": "cmdexd4cgPih",
        "outputId": "8b8ee58d-8254-4074-9a80-aba7074f9e04"
      },
      "id": "cmdexd4cgPih",
      "execution_count": null,
      "outputs": [
        {
          "output_type": "stream",
          "name": "stdout",
          "text": [
            "339/339 [==============================] - 2s 4ms/step - loss: 0.0254 - acc: 0.9916\n",
            "Loss: 0.025409849360585213,\n",
            "Accuracy: 0.9915899038314819\n"
          ]
        }
      ]
    },
    {
      "cell_type": "code",
      "source": [
        "loss, accuracy = gru_model.evaluate(X_test, Y_test, verbose = 1)\n",
        "print(\"Loss: {0},\\nAccuracy: {1}\".format(loss, accuracy))"
      ],
      "metadata": {
        "colab": {
          "base_uri": "https://localhost:8080/"
        },
        "id": "BSXqDJ65gSi1",
        "outputId": "3f96e2b0-915c-4606-992c-ffee7c7dc8c0"
      },
      "id": "BSXqDJ65gSi1",
      "execution_count": null,
      "outputs": [
        {
          "output_type": "stream",
          "name": "stdout",
          "text": [
            "339/339 [==============================] - 2s 5ms/step - loss: 0.0255 - acc: 0.9915\n",
            "Loss: 0.02545086294412613,\n",
            "Accuracy: 0.9914855360984802\n"
          ]
        }
      ]
    },
    {
      "cell_type": "code",
      "source": [
        "loss, accuracy = bidirect_model.evaluate(X_test, Y_test, verbose = 1)\n",
        "print(\"Loss: {0},\\nAccuracy: {1}\".format(loss, accuracy))"
      ],
      "metadata": {
        "colab": {
          "base_uri": "https://localhost:8080/"
        },
        "id": "jUj3mZnZgUkG",
        "outputId": "e065c662-7bae-49c9-c341-169a20b6f430"
      },
      "id": "jUj3mZnZgUkG",
      "execution_count": null,
      "outputs": [
        {
          "output_type": "stream",
          "name": "stdout",
          "text": [
            "339/339 [==============================] - 2s 6ms/step - loss: 0.0225 - acc: 0.9938\n",
            "Loss: 0.022491931915283203,\n",
            "Accuracy: 0.9937992691993713\n"
          ]
        }
      ]
    },
    {
      "cell_type": "code",
      "source": [],
      "metadata": {
        "id": "Ef3UQ-Iyi6VJ"
      },
      "id": "Ef3UQ-Iyi6VJ",
      "execution_count": null,
      "outputs": []
    }
  ],
  "metadata": {
    "kernelspec": {
      "display_name": "Python 3",
      "name": "python3"
    },
    "language_info": {
      "codemirror_mode": {
        "name": "ipython",
        "version": 3
      },
      "file_extension": ".py",
      "mimetype": "text/x-python",
      "name": "python",
      "nbconvert_exporter": "python",
      "pygments_lexer": "ipython3",
      "version": "3.11.5"
    },
    "colab": {
      "provenance": []
    }
  },
  "nbformat": 4,
  "nbformat_minor": 5
}